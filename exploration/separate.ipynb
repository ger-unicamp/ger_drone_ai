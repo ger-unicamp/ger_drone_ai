{
 "cells": [
  {
   "cell_type": "code",
   "execution_count": 1,
   "source": [
    "import json\r\n",
    "import glob\r\n",
    "import os"
   ],
   "outputs": [],
   "metadata": {}
  },
  {
   "cell_type": "code",
   "execution_count": 2,
   "source": [
    "datasets_path = \"..\\\\datasets\\\\dataset_arena_2021\""
   ],
   "outputs": [],
   "metadata": {}
  },
  {
   "cell_type": "code",
   "execution_count": 3,
   "source": [
    "empty_captures = {\"version\": '0.0.1', \"captures\":[]}\r\n",
    "obj_captures = {\"version\": '0.0.1', \"captures\":[]}\r\n",
    "\r\n",
    "empty_count = 0\r\n",
    "obj_count = 0\r\n",
    "\r\n",
    "info_folders = glob.glob(datasets_path+\"\\\\\"+\"Dataset*-*\")\r\n",
    "\r\n",
    "bb_code = \"f9f22e05-443f-4602-a422-ebe4ea9b55cb\"\r\n",
    "\r\n",
    "for info_folder in info_folders: # Itera nos datasets\r\n",
    "    captures_files = glob.glob(info_folder+\"\\\\captures_*.json\")\r\n",
    "\r\n",
    "    for captures_file in captures_files: # Itera nos arquivos JSON\r\n",
    "        fl = open(captures_file)\r\n",
    "        captures = json.load(fl)\r\n",
    "        fl.close()\r\n",
    "\r\n",
    "        for capture in captures[\"captures\"]: # Itera nas imagens\r\n",
    "            empty = True\r\n",
    "            img_file_name = datasets_path+\"\\\\\"+capture[\"filename\"]\r\n",
    "\r\n",
    "            for annotation in capture[\"annotations\"]: # Procura as bb\r\n",
    "                if len(annotation[\"values\"]) != 0: # Está vazio\r\n",
    "                    empty = False\r\n",
    "                    break\r\n",
    "\r\n",
    "            new_img_file_name = \"\"\r\n",
    "            if empty:\r\n",
    "                new_img_file_name = \"RGB1/img_\"+str(empty_count + 1)+\".png\"\r\n",
    "                empty_count += 1\r\n",
    "\r\n",
    "                capture[\"filename\"] = new_img_file_name\r\n",
    "                empty_captures[\"captures\"].append(capture)\r\n",
    "            else:\r\n",
    "                new_img_file_name = \"RGB2/img_\"+str(obj_count + 1)+\".png\"\r\n",
    "                obj_count += 1\r\n",
    "\r\n",
    "                capture[\"filename\"] = new_img_file_name\r\n",
    "                obj_captures[\"captures\"].append(capture)\r\n",
    "\r\n",
    "            #os.rename(img_file_name, datasets_path+\"\\\\\"+new_img_file_name)\r\n",
    "            "
   ],
   "outputs": [],
   "metadata": {}
  },
  {
   "cell_type": "code",
   "execution_count": 4,
   "source": [
    "def chunks(lst, n):\r\n",
    "    \"\"\"Yield successive n-sized chunks from lst.\"\"\"\r\n",
    "    for i in range(0, len(lst), n):\r\n",
    "        yield lst[i:i + n]"
   ],
   "outputs": [],
   "metadata": {}
  },
  {
   "cell_type": "code",
   "execution_count": 5,
   "source": [
    "version = empty_captures[\"version\"]"
   ],
   "outputs": [],
   "metadata": {}
  },
  {
   "cell_type": "code",
   "execution_count": 7,
   "source": [
    "empty_file_count = 0\r\n",
    "\r\n",
    "for item in chunks(empty_captures[\"captures\"], 149):\r\n",
    "    empty_file = {}\r\n",
    "    empty_file[\"version\"] = version\r\n",
    "    empty_file[\"captures\"] = item\r\n",
    "\r\n",
    "    file_name = datasets_path + \"\\\\\" + \"Dataset1\\\\\"\r\n",
    "    file_name += \"captures_\"+\"{0:0=3d}\".format(empty_file_count)+\".json\"\r\n",
    "\r\n",
    "    cap_file = open(file_name, \"w\")\r\n",
    "    json.dump(empty_file, cap_file, indent=4)\r\n",
    "    cap_file.close()\r\n",
    "\r\n",
    "    empty_file_count += 1\r\n",
    "\r\n",
    "obj_file_count = 0\r\n",
    "\r\n",
    "for item in chunks(obj_captures[\"captures\"], 149):\r\n",
    "    obj_file = {}\r\n",
    "    obj_file[\"version\"] = version\r\n",
    "    obj_file[\"captures\"] = item\r\n",
    "\r\n",
    "    file_name = datasets_path + \"\\\\\" + \"Dataset2\\\\\"\r\n",
    "    file_name += \"captures_\"+\"{0:0=3d}\".format(obj_file_count)+\".json\"\r\n",
    "\r\n",
    "    cap_file = open(file_name, \"w\")\r\n",
    "    json.dump(obj_file, cap_file, indent=4)\r\n",
    "    cap_file.close()\r\n",
    "\r\n",
    "    obj_file_count += 1"
   ],
   "outputs": [],
   "metadata": {}
  },
  {
   "cell_type": "code",
   "execution_count": null,
   "source": [],
   "outputs": [],
   "metadata": {}
  }
 ],
 "metadata": {
  "orig_nbformat": 4,
  "language_info": {
   "name": "python",
   "version": "3.8.5",
   "mimetype": "text/x-python",
   "codemirror_mode": {
    "name": "ipython",
    "version": 3
   },
   "pygments_lexer": "ipython3",
   "nbconvert_exporter": "python",
   "file_extension": ".py"
  },
  "kernelspec": {
   "name": "python3",
   "display_name": "Python 3.8.5 64-bit"
  },
  "interpreter": {
   "hash": "2db524e06e9f5f4ffedc911c917cb75e12dbc923643829bf417064a77eb14d37"
  }
 },
 "nbformat": 4,
 "nbformat_minor": 2
}
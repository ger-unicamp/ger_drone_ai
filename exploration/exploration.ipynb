{
 "cells": [
  {
   "cell_type": "code",
   "execution_count": 160,
   "source": [
    "import glob\r\n",
    "import json\r\n",
    "\r\n",
    "import numpy as np\r\n",
    "from matplotlib import pyplot as plt\r\n",
    "import cv2 as cv\r\n",
    "import pandas as pd"
   ],
   "outputs": [],
   "metadata": {}
  },
  {
   "cell_type": "code",
   "execution_count": 144,
   "source": [
    "datasets_path = \"..\\\\datasets\\\\dataset_arena_2021\""
   ],
   "outputs": [],
   "metadata": {}
  },
  {
   "cell_type": "code",
   "execution_count": 145,
   "source": [
    "info_folder = glob.glob(datasets_path+\"\\\\\"+\"Dataset*\")[0]\r\n",
    "definitions_file = open(info_folder+\"\\\\annotation_definitions.json\")\r\n",
    "definitions = json.load(definitions_file)\r\n",
    "definitions_file.close()"
   ],
   "outputs": [],
   "metadata": {}
  },
  {
   "cell_type": "code",
   "execution_count": 173,
   "source": [
    "labels = {}\r\n",
    "alias = {}\r\n",
    "\r\n",
    "mostrador_ids = []\r\n",
    "mostrador_base_id = 0\r\n",
    "\r\n",
    "equipamento_ids = []\r\n",
    "equipamento_base_id = 0\r\n",
    "\r\n",
    "definition_codes = {}\r\n",
    "\r\n",
    "for definition in definitions[\"annotation_definitions\"]:\r\n",
    "    definition_codes[definition[\"name\"]] = definition[\"id\"]\r\n",
    "\r\n",
    "    if definition[\"name\"] == \"bounding box\":\r\n",
    "        for spec in definition[\"spec\"]:\r\n",
    "            labels[spec[\"label_id\"]] = {\"name\": spec[\"label_name\"], \"count\":0, \"imgs\":[]}\r\n",
    "\r\n",
    "            if spec[\"label_name\"][:9] == \"Mostrador\":\r\n",
    "                mostrador_ids.append(spec[\"label_id\"])\r\n",
    "\r\n",
    "                if len(spec[\"label_name\"]) == 9:\r\n",
    "                    mostrador_base_id = spec[\"label_id\"]\r\n",
    "\r\n",
    "            if spec[\"label_name\"][:11] == \"Equipamento\":\r\n",
    "                equipamento_ids.append(spec[\"label_id\"])\r\n",
    "\r\n",
    "                if len(spec[\"label_name\"]) == 11:\r\n",
    "                    equipamento_base_id = spec[\"label_id\"]\r\n",
    "\r\n",
    "        \r\n",
    "        break\r\n",
    "\r\n",
    "alias[mostrador_base_id] = mostrador_ids\r\n",
    "alias[equipamento_base_id] = equipamento_ids\r\n",
    "\r\n",
    "print(list(labels.items())[1:10])\r\n",
    "print(list(labels.items())[-10:])"
   ],
   "outputs": [
    {
     "output_type": "stream",
     "name": "stdout",
     "text": [
      "[(2, {'name': 'Equipamento', 'count': 0, 'imgs': []}), (3, {'name': 'EquipamentoA', 'count': 0, 'imgs': []}), (4, {'name': 'EquipamentoB', 'count': 0, 'imgs': []}), (5, {'name': 'EquipamentoC', 'count': 0, 'imgs': []}), (6, {'name': 'EquipamentoD', 'count': 0, 'imgs': []}), (7, {'name': 'EquipamentoE', 'count': 0, 'imgs': []}), (8, {'name': 'Mostrador', 'count': 0, 'imgs': []}), (9, {'name': 'Mostrador_00_-10', 'count': 0, 'imgs': []}), (10, {'name': 'Mostrador_00_10', 'count': 0, 'imgs': []})]\n",
      "[(4002, {'name': 'Mostrador_99_18', 'count': 0, 'imgs': []}), (4003, {'name': 'Mostrador_99_-8', 'count': 0, 'imgs': []}), (4004, {'name': 'Mostrador_99_8', 'count': 0, 'imgs': []}), (4005, {'name': 'Mostrador_99_-19', 'count': 0, 'imgs': []}), (4006, {'name': 'Mostrador_99_19', 'count': 0, 'imgs': []}), (4007, {'name': 'Mostrador_99_-9', 'count': 0, 'imgs': []}), (4008, {'name': 'Mostrador_99_9', 'count': 0, 'imgs': []}), (4009, {'name': 'Base_Inicial', 'count': 0, 'imgs': []}), (4010, {'name': 'Sensor vermelho', 'count': 0, 'imgs': []}), (4011, {'name': 'Sensor verde', 'count': 0, 'imgs': []})]\n"
     ]
    }
   ],
   "metadata": {}
  },
  {
   "cell_type": "code",
   "execution_count": 174,
   "source": [
    "bb_code = definition_codes[\"bounding box\"]\r\n",
    "\r\n",
    "empty_img = 0\r\n",
    "n_img = 0\r\n",
    "obj_img = 0\r\n",
    "\r\n",
    "info_folders = glob.glob(datasets_path+\"\\\\\"+\"Dataset*\")\r\n",
    "\r\n",
    "for info_folder in info_folders: # Itera nos datasets\r\n",
    "    captures_files = glob.glob(info_folder+\"\\\\captures_*.json\")\r\n",
    "\r\n",
    "    for captures_file in captures_files: # Itera nos arquivos JSON\r\n",
    "        fl = open(captures_file)\r\n",
    "        captures = json.load(fl)\r\n",
    "        fl.close()\r\n",
    "\r\n",
    "        for capture in captures[\"captures\"]: # Itera nas imagens\r\n",
    "            for annotation in capture[\"annotations\"]: # Procura as bb\r\n",
    "                if annotation[\"annotation_definition\"] == bb_code: # É bb\r\n",
    "\r\n",
    "                    if len(annotation[\"values\"]) == 0: # Está vazio\r\n",
    "                        empty_img += 1\r\n",
    "                    else:\r\n",
    "                        obj_img += len(annotation[\"values\"])\r\n",
    "\r\n",
    "                        for obj in annotation[\"values\"]:\r\n",
    "                            labels[obj[\"label_id\"]][\"count\"] += 1\r\n",
    "                            labels[obj[\"label_id\"]][\"imgs\"].append(capture[\"filename\"])\r\n",
    "                    n_img += 1\r\n",
    "\r\n",
    "                    break\r\n",
    "\r\n",
    "for main_id in alias:\r\n",
    "    for alias_id in alias[main_id]:\r\n",
    "        labels[main_id][\"count\"] += labels[alias_id][\"count\"]\r\n",
    "\r\n",
    "obj_img /= n_img\r\n",
    "obj_img"
   ],
   "outputs": [
    {
     "output_type": "execute_result",
     "data": {
      "text/plain": [
       "0.4166969147005445"
      ]
     },
     "metadata": {},
     "execution_count": 174
    }
   ],
   "metadata": {}
  },
  {
   "cell_type": "code",
   "execution_count": 175,
   "source": [
    "count_ids = []\r\n",
    "count_labels = []\r\n",
    "count = []\r\n",
    "\r\n",
    "for label_id in labels:\r\n",
    "    is_alias = False\r\n",
    "    for alias_id in alias:\r\n",
    "        if label_id == alias_id:\r\n",
    "            break\r\n",
    "        if label_id in alias[alias_id]:\r\n",
    "            is_alias = True\r\n",
    "            break\r\n",
    "    if is_alias:\r\n",
    "        continue\r\n",
    "\r\n",
    "    count_ids.append(label_id)\r\n",
    "    count_labels.append(labels[label_id][\"name\"])\r\n",
    "    count.append(labels[label_id][\"count\"])\r\n",
    "\r\n",
    "count_ids.append(0)\r\n",
    "count_labels.append(\"Empty\")\r\n",
    "count.append(empty_img)"
   ],
   "outputs": [],
   "metadata": {}
  },
  {
   "cell_type": "code",
   "execution_count": 176,
   "source": [
    "plt.bar(count_labels, count)\r\n",
    "plt.xticks(rotation=45)\r\n",
    "plt.show()"
   ],
   "outputs": [
    {
     "output_type": "display_data",
     "data": {
      "image/png": "[encoded data removed]",
      "text/plain": [
       "<Figure size 432x288 with 1 Axes>"
      ]
     },
     "metadata": {
      "needs_background": "light"
     }
    }
   ],
   "metadata": {}
  },
  {
   "cell_type": "code",
   "execution_count": 179,
   "source": [
    "pd.DataFrame(labels).transpose()"
   ],
   "outputs": [
    {
     "output_type": "execute_result",
     "data": {
      "text/html": [
       "<div>\n",
       "<style scoped>\n",
       "    .dataframe tbody tr th:only-of-type {\n",
       "        vertical-align: middle;\n",
       "    }\n",
       "\n",
       "    .dataframe tbody tr th {\n",
       "        vertical-align: top;\n",
       "    }\n",
       "\n",
       "    .dataframe thead th {\n",
       "        text-align: right;\n",
       "    }\n",
       "</style>\n",
       "<table border=\"1\" class=\"dataframe\">\n",
       "  <thead>\n",
       "    <tr style=\"text-align: right;\">\n",
       "      <th></th>\n",
       "      <th>name</th>\n",
       "      <th>count</th>\n",
       "      <th>imgs</th>\n",
       "    </tr>\n",
       "  </thead>\n",
       "  <tbody>\n",
       "    <tr>\n",
       "      <th>1</th>\n",
       "      <td>Base</td>\n",
       "      <td>5528</td>\n",
       "      <td>[RGBd8aeb9af-e5f9-4185-a7d5-3eeb10ff55fd/rgb_2...</td>\n",
       "    </tr>\n",
       "    <tr>\n",
       "      <th>2</th>\n",
       "      <td>Equipamento</td>\n",
       "      <td>1032</td>\n",
       "      <td>[RGB5333dc96-2af4-45d0-8d44-241f4cef9b39/rgb_1...</td>\n",
       "    </tr>\n",
       "    <tr>\n",
       "      <th>3</th>\n",
       "      <td>EquipamentoA</td>\n",
       "      <td>206</td>\n",
       "      <td>[RGBd8aeb9af-e5f9-4185-a7d5-3eeb10ff55fd/rgb_8...</td>\n",
       "    </tr>\n",
       "    <tr>\n",
       "      <th>4</th>\n",
       "      <td>EquipamentoB</td>\n",
       "      <td>223</td>\n",
       "      <td>[RGBd8aeb9af-e5f9-4185-a7d5-3eeb10ff55fd/rgb_9...</td>\n",
       "    </tr>\n",
       "    <tr>\n",
       "      <th>5</th>\n",
       "      <td>EquipamentoC</td>\n",
       "      <td>194</td>\n",
       "      <td>[RGBd8aeb9af-e5f9-4185-a7d5-3eeb10ff55fd/rgb_5...</td>\n",
       "    </tr>\n",
       "    <tr>\n",
       "      <th>...</th>\n",
       "      <td>...</td>\n",
       "      <td>...</td>\n",
       "      <td>...</td>\n",
       "    </tr>\n",
       "    <tr>\n",
       "      <th>4007</th>\n",
       "      <td>Mostrador_99_-9</td>\n",
       "      <td>0</td>\n",
       "      <td>[]</td>\n",
       "    </tr>\n",
       "    <tr>\n",
       "      <th>4008</th>\n",
       "      <td>Mostrador_99_9</td>\n",
       "      <td>0</td>\n",
       "      <td>[]</td>\n",
       "    </tr>\n",
       "    <tr>\n",
       "      <th>4009</th>\n",
       "      <td>Base_Inicial</td>\n",
       "      <td>185</td>\n",
       "      <td>[RGBa63d030d-33e9-4559-9576-4284b63f56a1/rgb_3...</td>\n",
       "    </tr>\n",
       "    <tr>\n",
       "      <th>4010</th>\n",
       "      <td>Sensor vermelho</td>\n",
       "      <td>711</td>\n",
       "      <td>[RGBdf457955-7360-4b60-95eb-d3ccd5b31ab5/rgb_6...</td>\n",
       "    </tr>\n",
       "    <tr>\n",
       "      <th>4011</th>\n",
       "      <td>Sensor verde</td>\n",
       "      <td>697</td>\n",
       "      <td>[RGBdf457955-7360-4b60-95eb-d3ccd5b31ab5/rgb_3...</td>\n",
       "    </tr>\n",
       "  </tbody>\n",
       "</table>\n",
       "<p>4011 rows × 3 columns</p>\n",
       "</div>"
      ],
      "text/plain": [
       "                 name count                                               imgs\n",
       "1                Base  5528  [RGBd8aeb9af-e5f9-4185-a7d5-3eeb10ff55fd/rgb_2...\n",
       "2         Equipamento  1032  [RGB5333dc96-2af4-45d0-8d44-241f4cef9b39/rgb_1...\n",
       "3        EquipamentoA   206  [RGBd8aeb9af-e5f9-4185-a7d5-3eeb10ff55fd/rgb_8...\n",
       "4        EquipamentoB   223  [RGBd8aeb9af-e5f9-4185-a7d5-3eeb10ff55fd/rgb_9...\n",
       "5        EquipamentoC   194  [RGBd8aeb9af-e5f9-4185-a7d5-3eeb10ff55fd/rgb_5...\n",
       "...               ...   ...                                                ...\n",
       "4007  Mostrador_99_-9     0                                                 []\n",
       "4008   Mostrador_99_9     0                                                 []\n",
       "4009     Base_Inicial   185  [RGBa63d030d-33e9-4559-9576-4284b63f56a1/rgb_3...\n",
       "4010  Sensor vermelho   711  [RGBdf457955-7360-4b60-95eb-d3ccd5b31ab5/rgb_6...\n",
       "4011     Sensor verde   697  [RGBdf457955-7360-4b60-95eb-d3ccd5b31ab5/rgb_3...\n",
       "\n",
       "[4011 rows x 3 columns]"
      ]
     },
     "metadata": {},
     "execution_count": 179
    }
   ],
   "metadata": {}
  },
  {
   "cell_type": "code",
   "execution_count": 187,
   "source": [
    "import sys\r\n",
    "sys.getsizeof(img)/10E+3"
   ],
   "outputs": [
    {
     "output_type": "execute_result",
     "data": {
      "text/plain": [
       "178.9918"
      ]
     },
     "metadata": {},
     "execution_count": 187
    }
   ],
   "metadata": {}
  },
  {
   "cell_type": "code",
   "execution_count": 188,
   "source": [
    "img = cv.imread(datasets_path+\"\\\\\"+labels[1][\"imgs\"][1])\r\n",
    "plt.imshow(img)"
   ],
   "outputs": [
    {
     "output_type": "execute_result",
     "data": {
      "text/plain": [
       "<matplotlib.image.AxesImage at 0x2532a4d1df0>"
      ]
     },
     "metadata": {},
     "execution_count": 188
    },
    {
     "output_type": "display_data",
     "data": {
      "image/png": "[encoded data removed]",
      "text/plain": [
       "<Figure size 432x288 with 1 Axes>"
      ]
     },
     "metadata": {
      "needs_background": "light"
     }
    }
   ],
   "metadata": {}
  },
  {
   "cell_type": "code",
   "execution_count": 191,
   "source": [
    "n_img * sys.getsizeof(img)/10E+6"
   ],
   "outputs": [
    {
     "output_type": "execute_result",
     "data": {
      "text/plain": [
       "3944.979272"
      ]
     },
     "metadata": {},
     "execution_count": 191
    }
   ],
   "metadata": {}
  },
  {
   "cell_type": "code",
   "execution_count": 192,
   "source": [
    "n_img"
   ],
   "outputs": [
    {
     "output_type": "execute_result",
     "data": {
      "text/plain": [
       "22040"
      ]
     },
     "metadata": {},
     "execution_count": 192
    }
   ],
   "metadata": {}
  },
  {
   "cell_type": "code",
   "execution_count": 193,
   "source": [
    "empty_img"
   ],
   "outputs": [
    {
     "output_type": "execute_result",
     "data": {
      "text/plain": [
       "15212"
      ]
     },
     "metadata": {},
     "execution_count": 193
    }
   ],
   "metadata": {}
  },
  {
   "cell_type": "code",
   "execution_count": 194,
   "source": [
    "n_img-empty_img"
   ],
   "outputs": [
    {
     "output_type": "execute_result",
     "data": {
      "text/plain": [
       "6828"
      ]
     },
     "metadata": {},
     "execution_count": 194
    }
   ],
   "metadata": {}
  },
  {
   "cell_type": "code",
   "execution_count": 2,
   "source": [
    "bb_code"
   ],
   "outputs": [
    {
     "output_type": "error",
     "ename": "NameError",
     "evalue": "name 'bb_code' is not defined",
     "traceback": [
      "\u001b[1;31m---------------------------------------------------------------------------\u001b[0m",
      "\u001b[1;31mNameError\u001b[0m                                 Traceback (most recent call last)",
      "\u001b[1;32m<ipython-input-2-5f061390fc88>\u001b[0m in \u001b[0;36m<module>\u001b[1;34m\u001b[0m\n\u001b[1;32m----> 1\u001b[1;33m \u001b[0mbb_code\u001b[0m\u001b[1;33m\u001b[0m\u001b[1;33m\u001b[0m\u001b[0m\n\u001b[0m",
      "\u001b[1;31mNameError\u001b[0m: name 'bb_code' is not defined"
     ]
    }
   ],
   "metadata": {}
  },
  {
   "cell_type": "code",
   "execution_count": null,
   "source": [],
   "outputs": [],
   "metadata": {}
  }
 ],
 "metadata": {
  "orig_nbformat": 4,
  "language_info": {
   "name": "python",
   "version": "3.8.5",
   "mimetype": "text/x-python",
   "codemirror_mode": {
    "name": "ipython",
    "version": 3
   },
   "pygments_lexer": "ipython3",
   "nbconvert_exporter": "python",
   "file_extension": ".py"
  },
  "kernelspec": {
   "name": "python3",
   "display_name": "Python 3.8.5 64-bit"
  },
  "interpreter": {
   "hash": "2db524e06e9f5f4ffedc911c917cb75e12dbc923643829bf417064a77eb14d37"
  }
 },
 "nbformat": 4,
 "nbformat_minor": 2
}